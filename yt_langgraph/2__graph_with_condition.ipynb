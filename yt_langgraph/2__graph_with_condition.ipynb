{
 "cells": [
  {
   "cell_type": "code",
   "execution_count": 4,
   "id": "268dba7c",
   "metadata": {},
   "outputs": [],
   "source": [
    "from typing import TypedDict, Literal\n",
    "\n",
    "\n",
    "class PortfolioState(TypedDict):\n",
    "    amount_usd: float\n",
    "    total_usd: float\n",
    "    target_currency: Literal[\"INR\", \"EUR\"]\n",
    "    total: float\n"
   ]
  },
  {
   "cell_type": "code",
   "execution_count": 5,
   "id": "d11d144e",
   "metadata": {},
   "outputs": [],
   "source": [
    "def calc_total(state: PortfolioState) -> PortfolioState:\n",
    "    state[\"total_usd\"] = state[\"amount_usd\"] * 1.08\n",
    "    return state\n",
    "\n",
    "\n",
    "def convert_to_inr(state: PortfolioState) -> PortfolioState:\n",
    "    state[\"total\"] = state[\"total_usd\"] * 85\n",
    "    return state\n",
    "\n",
    "\n",
    "def convert_to_eur(state: PortfolioState) -> PortfolioState:\n",
    "    state[\"total\"] = state[\"total_usd\"] * 0.9\n",
    "    return state\n",
    "\n",
    "\n",
    "def choose_conversion(state: PortfolioState):\n",
    "    return state[\"target_currency\"]\n"
   ]
  },
  {
   "cell_type": "code",
   "execution_count": 7,
   "id": "febe1428",
   "metadata": {},
   "outputs": [],
   "source": [
    "from langgraph.graph import StateGraph, START, END\n",
    "\n",
    "builder = StateGraph(PortfolioState)\n",
    "\n",
    "\n",
    "builder.add_node(\"convert_to_inr_node\", convert_to_inr)\n",
    "builder.add_node(\"convert_to_eur_node\", convert_to_eur)\n",
    "builder.add_node(\"calc_total_node\", calc_total)\n",
    "\n",
    "builder.add_edge(START, \"calc_total_node\")\n",
    "builder.add_conditional_edges(\n",
    "    \"calc_total_node\",\n",
    "    choose_conversion,\n",
    "    {\n",
    "        \"INR\": \"convert_to_inr_node\",\n",
    "        \"EUR\": \"convert_to_eur_node\",\n",
    "    },\n",
    ")\n",
    "builder.add_edge(\"convert_to_inr_node\", END)\n",
    "builder.add_edge(\"convert_to_eur_node\", END)\n",
    "\n",
    "graph = builder.compile()\n"
   ]
  },
  {
   "cell_type": "code",
   "execution_count": 8,
   "id": "aca9d8ed",
   "metadata": {},
   "outputs": [
    {
     "data": {
      "image/png": "[encoded data removed]",
      "text/plain": [
       "<IPython.core.display.Image object>"
      ]
     },
     "metadata": {},
     "output_type": "display_data"
    }
   ],
   "source": [
    "from IPython.display import Image, display\n",
    "\n",
    "display(Image(graph.get_graph().draw_mermaid_png()))\n"
   ]
  },
  {
   "cell_type": "code",
   "execution_count": 9,
   "id": "a1f6a216",
   "metadata": {},
   "outputs": [
    {
     "data": {
      "text/plain": [
       "{'amount_usd': 100,\n",
       " 'total_usd': 108.0,\n",
       " 'target_currency': 'INR',\n",
       " 'total': 9180.0}"
      ]
     },
     "execution_count": 9,
     "metadata": {},
     "output_type": "execute_result"
    }
   ],
   "source": [
    "graph.invoke({\"amount_usd\": 100, \"target_currency\": \"INR\"})\n"
   ]
  },
  {
   "cell_type": "code",
   "execution_count": null,
   "id": "041f9dda",
   "metadata": {},
   "outputs": [
    {
     "data": {
      "text/plain": [
       "{'amount_usd': 100,\n",
       " 'total_usd': 108.0,\n",
       " 'target_currency': 'EUR',\n",
       " 'total': 97.2}"
      ]
     },
     "execution_count": 10,
     "metadata": {},
     "output_type": "execute_result"
    }
   ],
   "source": [
    "graph.invoke({\"amount_usd\": 100, \"target_currency\": \"EUR\"})\n"
   ]
  }
 ],
 "metadata": {
  "kernelspec": {
   "display_name": "venv",
   "language": "python",
   "name": "python3"
  },
  "language_info": {
   "codemirror_mode": {
    "name": "ipython",
    "version": 3
   },
   "file_extension": ".py",
   "mimetype": "text/x-python",
   "name": "python",
   "nbconvert_exporter": "python",
   "pygments_lexer": "ipython3",
   "version": "3.12.8"
  }
 },
 "nbformat": 4,
 "nbformat_minor": 5
}
