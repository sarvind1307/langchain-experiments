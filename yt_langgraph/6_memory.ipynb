{
 "cells": [
  {
   "cell_type": "code",
   "execution_count": 50,
   "id": "2066c671",
   "metadata": {},
   "outputs": [],
   "source": [
    "from typing import TypedDict, Annotated\n",
    "from langgraph.prebuilt import ToolNode, tools_condition\n",
    "from langgraph.graph import StateGraph, START, END\n",
    "from langgraph.graph.message import add_messages\n",
    "from langchain_core.tools import tool\n",
    "from langchain.chat_models import init_chat_model\n",
    "from langgraph.checkpoint.memory import MemorySaver\n",
    "\n",
    "from langchain_openai import ChatOpenAI\n",
    "\n",
    "import random\n"
   ]
  },
  {
   "cell_type": "code",
   "execution_count": 51,
   "id": "df1e2541",
   "metadata": {},
   "outputs": [
    {
     "data": {
      "text/plain": [
       "True"
      ]
     },
     "execution_count": 51,
     "metadata": {},
     "output_type": "execute_result"
    }
   ],
   "source": [
    "from dotenv import load_dotenv\n",
    "\n",
    "load_dotenv()\n"
   ]
  },
  {
   "cell_type": "code",
   "execution_count": 52,
   "id": "5717d39b",
   "metadata": {
    "notebookRunGroups": {
     "groupValue": "1"
    }
   },
   "outputs": [],
   "source": [
    "class State(TypedDict):\n",
    "    messages: Annotated[list, add_messages]\n"
   ]
  },
  {
   "cell_type": "code",
   "execution_count": 53,
   "id": "a0ee3ebb",
   "metadata": {},
   "outputs": [],
   "source": [
    "@tool\n",
    "def get_stock_price(symbol: str) -> float:\n",
    "    \"\"\"Get the current stock price for a given symbol.\n",
    "\n",
    "    Args:\n",
    "        symbol: The stock symbol (e.g., 'AAPL', 'GOOGL')\n",
    "\n",
    "    Returns:\n",
    "        float: The current stock price\n",
    "    \"\"\"\n",
    "    return round(random.random() * 100, 2)\n",
    "\n",
    "\n",
    "tools = [get_stock_price]\n"
   ]
  },
  {
   "cell_type": "code",
   "execution_count": 54,
   "id": "b91c37ef",
   "metadata": {},
   "outputs": [],
   "source": [
    "llm = init_chat_model(\"openai:gpt-4.1-nano\")\n",
    "llm_with_tools = llm.bind_tools(tools)\n",
    "memory = MemorySaver()\n"
   ]
  },
  {
   "cell_type": "code",
   "execution_count": 55,
   "id": "2e1e3b19",
   "metadata": {},
   "outputs": [],
   "source": [
    "def chatbot(state: State):\n",
    "    return {\"messages\": [llm_with_tools.invoke(state[\"messages\"])]}\n",
    "\n",
    "\n",
    "builder = StateGraph(State)\n",
    "\n",
    "builder.add_node(\"chatbot\", chatbot)\n",
    "builder.add_node(\"tools\", ToolNode(tools))\n",
    "\n",
    "builder.add_edge(START, \"chatbot\")\n",
    "builder.add_conditional_edges(\"chatbot\", tools_condition)\n",
    "builder.add_edge(\"tools\", \"chatbot\")\n",
    "builder.add_edge(\"chatbot\", END)\n",
    "\n",
    "graph = builder.compile(checkpointer=memory)\n"
   ]
  },
  {
   "cell_type": "code",
   "execution_count": 56,
   "id": "52d05699",
   "metadata": {},
   "outputs": [
    {
     "data": {
      "image/png": "[encoded data removed]",
      "text/plain": [
       "<IPython.core.display.Image object>"
      ]
     },
     "metadata": {},
     "output_type": "display_data"
    }
   ],
   "source": [
    "from IPython.display import Image, display\n",
    "\n",
    "display(Image(graph.get_graph().draw_mermaid_png()))\n"
   ]
  },
  {
   "cell_type": "code",
   "execution_count": 57,
   "id": "6be4160c",
   "metadata": {},
   "outputs": [],
   "source": [
    "# state = graph.invoke(\n",
    "#     {\"messages\": [{\"role\": \"user\", \"content\": \"What's the stock price of AAPL?\"}]}\n",
    "# )\n",
    "# state[\"messages\"]\n"
   ]
  },
  {
   "cell_type": "code",
   "execution_count": 58,
   "id": "9eda4f0c",
   "metadata": {},
   "outputs": [],
   "source": [
    "# state = graph.invoke(\n",
    "#     {\n",
    "#         \"messages\": [\n",
    "#             {\"role\": \"user\", \"content\": \"Just give the sun's radius in kilometers\"}\n",
    "#         ]\n",
    "#     }\n",
    "# )\n",
    "# state[\"messages\"]\n"
   ]
  },
  {
   "cell_type": "code",
   "execution_count": 59,
   "id": "2ba5349a",
   "metadata": {},
   "outputs": [],
   "source": [
    "config = {\"configurable\": {\"thread_id\": 1}}\n"
   ]
  },
  {
   "cell_type": "code",
   "execution_count": 60,
   "id": "18908334",
   "metadata": {},
   "outputs": [
    {
     "name": "stdout",
     "output_type": "stream",
     "text": [
      "[HumanMessage(content='I want 10 stock of AAPL and 20 stock of GOOGL. What will be the cost?', additional_kwargs={}, response_metadata={}, id='ce8c97d8-0dfc-462f-9bdb-1aca1bae433b'), AIMessage(content='', additional_kwargs={'tool_calls': [{'id': 'call_oAGMUDS7rG5tZbNsoAtNLBCH', 'function': {'arguments': '{\"symbol\": \"AAPL\"}', 'name': 'get_stock_price'}, 'type': 'function'}, {'id': 'call_q2kME6UcVMxU0sjszRnZi50t', 'function': {'arguments': '{\"symbol\": \"GOOGL\"}', 'name': 'get_stock_price'}, 'type': 'function'}], 'refusal': None}, response_metadata={'token_usage': {'completion_tokens': 49, 'prompt_tokens': 101, 'total_tokens': 150, 'completion_tokens_details': {'accepted_prediction_tokens': 0, 'audio_tokens': 0, 'reasoning_tokens': 0, 'rejected_prediction_tokens': 0}, 'prompt_tokens_details': {'audio_tokens': 0, 'cached_tokens': 0}}, 'model_name': 'gpt-4.1-nano-2025-04-14', 'system_fingerprint': 'fp_c4c155951e', 'id': 'chatcmpl-C8BFQdKqGj2OLCNwI2BGKDChmmYiq', 'service_tier': 'default', 'finish_reason': 'tool_calls', 'logprobs': None}, id='run--712a4465-1539-4b12-832a-0a14e872f55e-0', tool_calls=[{'name': 'get_stock_price', 'args': {'symbol': 'AAPL'}, 'id': 'call_oAGMUDS7rG5tZbNsoAtNLBCH', 'type': 'tool_call'}, {'name': 'get_stock_price', 'args': {'symbol': 'GOOGL'}, 'id': 'call_q2kME6UcVMxU0sjszRnZi50t', 'type': 'tool_call'}], usage_metadata={'input_tokens': 101, 'output_tokens': 49, 'total_tokens': 150, 'input_token_details': {'audio': 0, 'cache_read': 0}, 'output_token_details': {'audio': 0, 'reasoning': 0}}), ToolMessage(content='41.67', name='get_stock_price', id='c335d2a8-3d3d-4e6d-a2e9-47bbdb6968b5', tool_call_id='call_oAGMUDS7rG5tZbNsoAtNLBCH'), ToolMessage(content='5.87', name='get_stock_price', id='8a5738fd-b47b-4c98-ac53-1e6ae5b65f27', tool_call_id='call_q2kME6UcVMxU0sjszRnZi50t'), AIMessage(content='The current price of AAPL stock is $41.67, and the price of GOOGL stock is $5.87. \\n\\nThe total cost for 10 AAPL stocks is 10 * $41.67 = $416.70.\\nThe total cost for 20 GOOGL stocks is 20 * $5.87 = $117.40.\\n\\nSo, the total cost for all the stocks is $416.70 + $117.40 = $534.10.', additional_kwargs={'refusal': None}, response_metadata={'token_usage': {'completion_tokens': 101, 'prompt_tokens': 170, 'total_tokens': 271, 'completion_tokens_details': {'accepted_prediction_tokens': 0, 'audio_tokens': 0, 'reasoning_tokens': 0, 'rejected_prediction_tokens': 0}, 'prompt_tokens_details': {'audio_tokens': 0, 'cached_tokens': 0}}, 'model_name': 'gpt-4.1-nano-2025-04-14', 'system_fingerprint': 'fp_c4c155951e', 'id': 'chatcmpl-C8BFRZWAXkmOYmXZuWq3xD2VkjfP0', 'service_tier': 'default', 'finish_reason': 'stop', 'logprobs': None}, id='run--188e90b2-3b32-4f18-9955-e918f52139f5-0', usage_metadata={'input_tokens': 170, 'output_tokens': 101, 'total_tokens': 271, 'input_token_details': {'audio': 0, 'cache_read': 0}, 'output_token_details': {'audio': 0, 'reasoning': 0}})]\n",
      "****************************************************************************************************\n",
      "The current price of AAPL stock is $41.67, and the price of GOOGL stock is $5.87. \n",
      "\n",
      "The total cost for 10 AAPL stocks is 10 * $41.67 = $416.70.\n",
      "The total cost for 20 GOOGL stocks is 20 * $5.87 = $117.40.\n",
      "\n",
      "So, the total cost for all the stocks is $416.70 + $117.40 = $534.10.\n",
      "****************************************************************************************************\n"
     ]
    }
   ],
   "source": [
    "state = graph.invoke(\n",
    "    {\n",
    "        \"messages\": [\n",
    "            {\n",
    "                \"role\": \"user\",\n",
    "                \"content\": \"I want 10 stock of AAPL and 20 stock of GOOGL. What will be the cost?\",\n",
    "            }\n",
    "        ]\n",
    "    },\n",
    "    config=config,\n",
    ")\n",
    "print(state[\"messages\"])\n",
    "print(\"*\" * 100)\n",
    "print(state[\"messages\"][-1].content)\n",
    "print(\"*\" * 100)\n"
   ]
  },
  {
   "cell_type": "code",
   "execution_count": 61,
   "id": "3d7f66d2",
   "metadata": {},
   "outputs": [
    {
     "name": "stdout",
     "output_type": "stream",
     "text": [
      "[HumanMessage(content='I want 10 stock of AAPL and 20 stock of GOOGL. What will be the cost?', additional_kwargs={}, response_metadata={}, id='ce8c97d8-0dfc-462f-9bdb-1aca1bae433b'), AIMessage(content='', additional_kwargs={'tool_calls': [{'id': 'call_oAGMUDS7rG5tZbNsoAtNLBCH', 'function': {'arguments': '{\"symbol\": \"AAPL\"}', 'name': 'get_stock_price'}, 'type': 'function'}, {'id': 'call_q2kME6UcVMxU0sjszRnZi50t', 'function': {'arguments': '{\"symbol\": \"GOOGL\"}', 'name': 'get_stock_price'}, 'type': 'function'}], 'refusal': None}, response_metadata={'token_usage': {'completion_tokens': 49, 'prompt_tokens': 101, 'total_tokens': 150, 'completion_tokens_details': {'accepted_prediction_tokens': 0, 'audio_tokens': 0, 'reasoning_tokens': 0, 'rejected_prediction_tokens': 0}, 'prompt_tokens_details': {'audio_tokens': 0, 'cached_tokens': 0}}, 'model_name': 'gpt-4.1-nano-2025-04-14', 'system_fingerprint': 'fp_c4c155951e', 'id': 'chatcmpl-C8BFQdKqGj2OLCNwI2BGKDChmmYiq', 'service_tier': 'default', 'finish_reason': 'tool_calls', 'logprobs': None}, id='run--712a4465-1539-4b12-832a-0a14e872f55e-0', tool_calls=[{'name': 'get_stock_price', 'args': {'symbol': 'AAPL'}, 'id': 'call_oAGMUDS7rG5tZbNsoAtNLBCH', 'type': 'tool_call'}, {'name': 'get_stock_price', 'args': {'symbol': 'GOOGL'}, 'id': 'call_q2kME6UcVMxU0sjszRnZi50t', 'type': 'tool_call'}], usage_metadata={'input_tokens': 101, 'output_tokens': 49, 'total_tokens': 150, 'input_token_details': {'audio': 0, 'cache_read': 0}, 'output_token_details': {'audio': 0, 'reasoning': 0}}), ToolMessage(content='41.67', name='get_stock_price', id='c335d2a8-3d3d-4e6d-a2e9-47bbdb6968b5', tool_call_id='call_oAGMUDS7rG5tZbNsoAtNLBCH'), ToolMessage(content='5.87', name='get_stock_price', id='8a5738fd-b47b-4c98-ac53-1e6ae5b65f27', tool_call_id='call_q2kME6UcVMxU0sjszRnZi50t'), AIMessage(content='The current price of AAPL stock is $41.67, and the price of GOOGL stock is $5.87. \\n\\nThe total cost for 10 AAPL stocks is 10 * $41.67 = $416.70.\\nThe total cost for 20 GOOGL stocks is 20 * $5.87 = $117.40.\\n\\nSo, the total cost for all the stocks is $416.70 + $117.40 = $534.10.', additional_kwargs={'refusal': None}, response_metadata={'token_usage': {'completion_tokens': 101, 'prompt_tokens': 170, 'total_tokens': 271, 'completion_tokens_details': {'accepted_prediction_tokens': 0, 'audio_tokens': 0, 'reasoning_tokens': 0, 'rejected_prediction_tokens': 0}, 'prompt_tokens_details': {'audio_tokens': 0, 'cached_tokens': 0}}, 'model_name': 'gpt-4.1-nano-2025-04-14', 'system_fingerprint': 'fp_c4c155951e', 'id': 'chatcmpl-C8BFRZWAXkmOYmXZuWq3xD2VkjfP0', 'service_tier': 'default', 'finish_reason': 'stop', 'logprobs': None}, id='run--188e90b2-3b32-4f18-9955-e918f52139f5-0', usage_metadata={'input_tokens': 170, 'output_tokens': 101, 'total_tokens': 271, 'input_token_details': {'audio': 0, 'cache_read': 0}, 'output_token_details': {'audio': 0, 'reasoning': 0}}), HumanMessage(content='I also want to buy 10 of RIL. Add it to the previous total.', additional_kwargs={}, response_metadata={}, id='128c38d3-f36c-4103-b5fa-d4e5f16e57bb'), AIMessage(content='I need to know the current stock price of RIL to calculate the total cost. Please wait a moment while I get the latest price.', additional_kwargs={'tool_calls': [{'id': 'call_ugr3JIjXdB7v3tgA5Z97VvkF', 'function': {'arguments': '{\"symbol\":\"RIL\"}', 'name': 'get_stock_price'}, 'type': 'function'}], 'refusal': None}, response_metadata={'token_usage': {'completion_tokens': 45, 'prompt_tokens': 296, 'total_tokens': 341, 'completion_tokens_details': {'accepted_prediction_tokens': 0, 'audio_tokens': 0, 'reasoning_tokens': 0, 'rejected_prediction_tokens': 0}, 'prompt_tokens_details': {'audio_tokens': 0, 'cached_tokens': 0}}, 'model_name': 'gpt-4.1-nano-2025-04-14', 'system_fingerprint': 'fp_c4c155951e', 'id': 'chatcmpl-C8BFSJDB7eDJ0o8d7VnGJp8lZZJby', 'service_tier': 'default', 'finish_reason': 'tool_calls', 'logprobs': None}, id='run--acb8377d-ef81-497f-97f6-6f413c51ed9b-0', tool_calls=[{'name': 'get_stock_price', 'args': {'symbol': 'RIL'}, 'id': 'call_ugr3JIjXdB7v3tgA5Z97VvkF', 'type': 'tool_call'}], usage_metadata={'input_tokens': 296, 'output_tokens': 45, 'total_tokens': 341, 'input_token_details': {'audio': 0, 'cache_read': 0}, 'output_token_details': {'audio': 0, 'reasoning': 0}}), ToolMessage(content='39.43', name='get_stock_price', id='7df9c2e4-4621-414b-9385-1c0a87682120', tool_call_id='call_ugr3JIjXdB7v3tgA5Z97VvkF'), AIMessage(content='The current price of RIL stock is $39.43.\\n\\nThe cost for 10 RIL stocks is 10 * $39.43 = $394.30.\\n\\nAdding this to the previous total of $534.10, the new total cost is $534.10 + $394.30 = $928.40.', additional_kwargs={'refusal': None}, response_metadata={'token_usage': {'completion_tokens': 68, 'prompt_tokens': 356, 'total_tokens': 424, 'completion_tokens_details': {'accepted_prediction_tokens': 0, 'audio_tokens': 0, 'reasoning_tokens': 0, 'rejected_prediction_tokens': 0}, 'prompt_tokens_details': {'audio_tokens': 0, 'cached_tokens': 0}}, 'model_name': 'gpt-4.1-nano-2025-04-14', 'system_fingerprint': 'fp_c4c155951e', 'id': 'chatcmpl-C8BFUigxNmDcl2OZvZ224Hxp2co0X', 'service_tier': 'default', 'finish_reason': 'stop', 'logprobs': None}, id='run--a47c014b-041a-4e0f-9c6a-dd3473892f4b-0', usage_metadata={'input_tokens': 356, 'output_tokens': 68, 'total_tokens': 424, 'input_token_details': {'audio': 0, 'cache_read': 0}, 'output_token_details': {'audio': 0, 'reasoning': 0}})]\n",
      "****************************************************************************************************\n",
      "The current price of RIL stock is $39.43.\n",
      "\n",
      "The cost for 10 RIL stocks is 10 * $39.43 = $394.30.\n",
      "\n",
      "Adding this to the previous total of $534.10, the new total cost is $534.10 + $394.30 = $928.40.\n",
      "****************************************************************************************************\n"
     ]
    }
   ],
   "source": [
    "state = graph.invoke(\n",
    "    {\n",
    "        \"messages\": [\n",
    "            {\n",
    "                \"role\": \"user\",\n",
    "                \"content\": \"I also want to buy 10 of RIL. Add it to the previous total.\",\n",
    "            }\n",
    "        ]\n",
    "    },\n",
    "    config=config,\n",
    ")\n",
    "\n",
    "print(state[\"messages\"])\n",
    "print(\"*\" * 100)\n",
    "print(state[\"messages\"][-1].content)\n",
    "print(\"*\" * 100)\n"
   ]
  }
 ],
 "metadata": {
  "kernelspec": {
   "display_name": "venv",
   "language": "python",
   "name": "python3"
  },
  "language_info": {
   "codemirror_mode": {
    "name": "ipython",
    "version": 3
   },
   "file_extension": ".py",
   "mimetype": "text/x-python",
   "name": "python",
   "nbconvert_exporter": "python",
   "pygments_lexer": "ipython3",
   "version": "3.12.8"
  }
 },
 "nbformat": 4,
 "nbformat_minor": 5
}
