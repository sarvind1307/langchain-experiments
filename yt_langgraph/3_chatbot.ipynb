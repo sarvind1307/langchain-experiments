{
 "cells": [
  {
   "cell_type": "code",
   "execution_count": 28,
   "id": "15e543c8",
   "metadata": {},
   "outputs": [
    {
     "data": {
      "text/plain": [
       "True"
      ]
     },
     "execution_count": 28,
     "metadata": {},
     "output_type": "execute_result"
    }
   ],
   "source": [
    "from dotenv import load_dotenv\n",
    "import os\n",
    "\n",
    "from typing import TypedDict, Annotated\n",
    "from langchain.chat_models import init_chat_model\n",
    "from langgraph.graph import StateGraph, START, END\n",
    "from langgraph.graph.message import add_messages\n",
    "\n",
    "load_dotenv()\n"
   ]
  },
  {
   "cell_type": "code",
   "execution_count": 29,
   "id": "db31362e",
   "metadata": {},
   "outputs": [],
   "source": [
    "llm = init_chat_model(\"openai:gpt-4.1-nano\")\n"
   ]
  },
  {
   "cell_type": "code",
   "execution_count": 30,
   "id": "97d4e744",
   "metadata": {},
   "outputs": [],
   "source": [
    "# llm.invoke(\"Who's the first to walk on moon?\")\n"
   ]
  },
  {
   "cell_type": "code",
   "execution_count": 31,
   "id": "3b8177ff",
   "metadata": {},
   "outputs": [],
   "source": [
    "class ChatState(TypedDict):\n",
    "    messages: Annotated[list, add_messages]\n",
    "\n",
    "\n",
    "def chatbot(state: ChatState):\n",
    "    return {\"messages\": [llm.invoke(state[\"messages\"])]}\n",
    "\n",
    "\n",
    "builder = StateGraph(ChatState)\n",
    "\n",
    "builder.add_node(\"chatbot\", chatbot)\n",
    "\n",
    "builder.add_edge(START, \"chatbot\")\n",
    "builder.add_edge(\"chatbot\", END)\n",
    "\n",
    "graph = builder.compile()\n"
   ]
  },
  {
   "cell_type": "code",
   "execution_count": 32,
   "id": "654512bf",
   "metadata": {},
   "outputs": [
    {
     "data": {
      "text/plain": [
       "[HumanMessage(content=\"Who's the first to walk on moon? Just give the name only.\", additional_kwargs={}, response_metadata={}, id='535f51ba-b0a1-4589-95b1-a4627bb0e580'),\n",
       " AIMessage(content='Armstrong', additional_kwargs={'refusal': None}, response_metadata={'token_usage': {'completion_tokens': 2, 'prompt_tokens': 21, 'total_tokens': 23, 'completion_tokens_details': {'accepted_prediction_tokens': 0, 'audio_tokens': 0, 'reasoning_tokens': 0, 'rejected_prediction_tokens': 0}, 'prompt_tokens_details': {'audio_tokens': 0, 'cached_tokens': 0}}, 'model_name': 'gpt-4.1-nano-2025-04-14', 'system_fingerprint': 'fp_c4c155951e', 'id': 'chatcmpl-C8ATPjeFJORS06Y5XrPinaoqOQpB9', 'service_tier': 'default', 'finish_reason': 'stop', 'logprobs': None}, id='run--569969b1-b734-4ddd-8505-0cac2a005ff3-0', usage_metadata={'input_tokens': 21, 'output_tokens': 2, 'total_tokens': 23, 'input_token_details': {'audio': 0, 'cache_read': 0}, 'output_token_details': {'audio': 0, 'reasoning': 0}})]"
      ]
     },
     "execution_count": 32,
     "metadata": {},
     "output_type": "execute_result"
    }
   ],
   "source": [
    "message = {\n",
    "    \"role\": \"user\",\n",
    "    \"content\": \"Who's the first to walk on moon? Just give the name only.\",\n",
    "}\n",
    "\n",
    "response = graph.invoke({\"messages\": [message]})\n",
    "response[\"messages\"]\n"
   ]
  },
  {
   "cell_type": "code",
   "execution_count": 35,
   "id": "d27811ce",
   "metadata": {},
   "outputs": [
    {
     "name": "stdout",
     "output_type": "stream",
     "text": [
      "Bot:  The first man to land on the Moon was Neil Armstrong. He made his historic \"first step\" on July 20, 1969, during the Apollo 11 mission.\n",
      "Bot:  The second person to land on the Moon was Buzz Aldrin. He walked on the lunar surface shortly after Neil Armstrong during the Apollo 11 mission on July 20, 1969.\n",
      "Bot:  During the Apollo 11 mission, Michael Collins was orbiting the Moon in the Command Module. While Neil Armstrong and Buzz Aldrin were on the lunar surface, Collins remained in orbit around the Moon, overseeing the command module and ensuring the spacecraft's stability and readiness for the astronauts' return.\n",
      "Bot:  While there are no detailed personal accounts of Michael Collins expressing specific feelings about not landing on the Moon, he has publicly spoken about his thoughts and experiences. Collins has expressed pride in his role and the significance of the mission as a whole. In interviews, he has acknowledged that while he didn’t get to walk on the lunar surface, he felt a sense of accomplishment and importance mission-wise, and he understood the critical nature of his role in ensuring the safety and success of the crew. Collins has also reflected on how he was proud to be part of such a historic exploration effort, even if he was not physically present on the Moon’s surface.\n",
      "Bot:  It seems your message was empty. How can I assist you further?\n"
     ]
    }
   ],
   "source": [
    "state = None\n",
    "while True:\n",
    "    in_message = input(\"Enter your message: \")\n",
    "    if in_message.lower() in [\"exit\", \"quit\"]:\n",
    "        break\n",
    "    if state is None:\n",
    "        state: ChatState = {\n",
    "            \"messages\": [\n",
    "                {\n",
    "                    \"role\": \"user\",\n",
    "                    \"content\": in_message,\n",
    "                }\n",
    "            ]\n",
    "        }\n",
    "    else:\n",
    "        state[\"messages\"].append({\"role\": \"user\", \"content\": in_message})\n",
    "    state = graph.invoke(state)\n",
    "    print(\"Bot: \", state[\"messages\"][-1].content)\n"
   ]
  }
 ],
 "metadata": {
  "kernelspec": {
   "display_name": "venv",
   "language": "python",
   "name": "python3"
  },
  "language_info": {
   "codemirror_mode": {
    "name": "ipython",
    "version": 3
   },
   "file_extension": ".py",
   "mimetype": "text/x-python",
   "name": "python",
   "nbconvert_exporter": "python",
   "pygments_lexer": "ipython3",
   "version": "3.12.8"
  }
 },
 "nbformat": 4,
 "nbformat_minor": 5
}
